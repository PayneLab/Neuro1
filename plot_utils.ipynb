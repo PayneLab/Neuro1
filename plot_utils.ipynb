{
 "cells": [
  {
   "cell_type": "code",
   "execution_count": 1,
   "metadata": {},
   "outputs": [],
   "source": [
    "from statistics import mean\n",
    "import math\n",
    "import numpy as np\n",
    "import pandas as pd\n",
    "import matplotlib.pyplot as plt"
   ]
  },
  {
   "cell_type": "code",
   "execution_count": null,
   "metadata": {},
   "outputs": [],
   "source": []
  },
  {
   "cell_type": "code",
   "execution_count": 2,
   "metadata": {},
   "outputs": [],
   "source": [
    "def n_thresholds(alist, percents=[95], display=True):\n",
    "    ###Given a list calculates thresholds.\n",
    "    #   defaults to calculating the 95% threshold\n",
    "    #   optionally prints the thresholds calculated\n",
    "    #   returns a dictionary with the thresholds\n",
    "    #       including and excluding zeros for each\n",
    "\n",
    "    alist = sorted(alist, reverse=True)\n",
    "    with_zeros = {}\n",
    "    for i in percents:\n",
    "        p = (100.0-float(i))/100.0\n",
    "        t = float(alist[math.ceil(float(len(alist))*p)])\n",
    "        with_zeros[i] = t\n",
    "\n",
    "        if display: print(\"{0}% threshold: {1}\".format(i, t))\n",
    "\n",
    "    if display: print(\"\\nIgnoring Zeros: \")\n",
    "    alist = [x for x in alist if (x!=0)]\n",
    "    skip_zeros = {}\n",
    "    for i in percents:\n",
    "        p = (100.0-float(i))/100.0\n",
    "        t = float(alist[math.ceil(float(len(alist))*p)])\n",
    "        skip_zeros[i] = t\n",
    "        if display: print(\"{0}% threshold: {1}\".format(i, t))\n",
    "\n",
    "    r = {\n",
    "        'with_zeros':with_zeros,\n",
    "        'without_zeros':skip_zeros\n",
    "    }\n",
    "\n",
    "    return r"
   ]
  }
 ],
 "metadata": {
  "kernelspec": {
   "display_name": "Python 3",
   "language": "python",
   "name": "python3"
  },
  "language_info": {
   "codemirror_mode": {
    "name": "ipython",
    "version": 3
   },
   "file_extension": ".py",
   "mimetype": "text/x-python",
   "name": "python",
   "nbconvert_exporter": "python",
   "pygments_lexer": "ipython3",
   "version": "3.7.3"
  }
 },
 "nbformat": 4,
 "nbformat_minor": 2
}
