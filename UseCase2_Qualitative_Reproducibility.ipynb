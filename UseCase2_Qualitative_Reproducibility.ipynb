{
 "cells": [
  {
   "cell_type": "markdown",
   "metadata": {},
   "source": [
    "## Use Case 2: Qualitative Reproducibility\n",
    "In analyzing proteomic data, we compare the proteins present in the different samples. Here we will use two metrics to compare the reproducibility of the data set across replicates and cell types. \n",
    "\n",
    "First, we use a Venn diagram approach to show how many proteins from each sample where uniquely identified or shared between the samples. Having many shared proteins among replicates will qualitatively indicate that the samples replicate well. \n",
    "\n",
    "Next, we creat PCA (or T-SNE) plots of components 1 and 2. This dimension reduction technique visually demonstrates the similarity or disparity of sub-groups. We use it to show that the cell types are distinct from each other."
   ]
  },
  {
   "cell_type": "code",
   "execution_count": 1,
   "metadata": {},
   "outputs": [],
   "source": [
    "from load_data import load_dataset\n",
    "from plot_utils import reproducibility"
   ]
  },
  {
   "cell_type": "markdown",
   "metadata": {},
   "source": [
    "### PCA or T-SNE"
   ]
  },
  {
   "cell_type": "code",
   "execution_count": 2,
   "metadata": {},
   "outputs": [],
   "source": [
    "from sklearn.decomposition import PCA\n",
    "from sklearn.manifold import TSNE\n",
    "import matplotlib.pyplot as plt\n",
    "from sklearn.preprocessing import StandardScaler\n",
    "\n",
    "import numpy as np\n",
    "import pandas as pd"
   ]
  },
  {
   "cell_type": "code",
   "execution_count": 3,
   "metadata": {},
   "outputs": [],
   "source": [
    "data = load_dataset()"
   ]
  },
  {
   "cell_type": "code",
   "execution_count": 4,
   "metadata": {},
   "outputs": [],
   "source": [
    "features = np.array(data.index.values) #These are the proteins, the various features we use to distinguish the cell types\n",
    "samples=np.array(data.columns.values) #These are the different cells; includes cell types\n",
    "cell_types = [\"Inter\",\"Motor\"] #Cell types; these strings are in the sample names of those types"
   ]
  },
  {
   "cell_type": "code",
   "execution_count": 5,
   "metadata": {},
   "outputs": [],
   "source": [
    "standardized_data = pd.DataFrame(StandardScaler().fit_transform(data.values),\n",
    "                                 columns=samples, index=list(data.index.values))"
   ]
  },
  {
   "cell_type": "markdown",
   "metadata": {},
   "source": [
    "### Warning: There are missing values; "
   ]
  },
  {
   "cell_type": "code",
   "execution_count": 6,
   "metadata": {
    "scrolled": false
   },
   "outputs": [
    {
     "name": "stdout",
     "output_type": "stream",
     "text": [
      "Explained variation per principal component: [0.85575323 0.08136263 0.02624052 0.02035278 0.01629084]\n"
     ]
    }
   ],
   "source": [
    "pca = PCA(n_components=5)\n",
    "pca_result = pca.fit_transform(standardized_data.dropna().transpose().to_numpy())\n",
    "print('Explained variation per principal component: {}'.format(pca.explained_variance_ratio_))"
   ]
  },
  {
   "cell_type": "code",
   "execution_count": 7,
   "metadata": {},
   "outputs": [
    {
     "data": {
      "image/png": "[encoded data removed]",
      "text/plain": [
       "<Figure size 432x288 with 1 Axes>"
      ]
     },
     "metadata": {
      "needs_background": "light"
     },
     "output_type": "display_data"
    }
   ],
   "source": [
    "for cell_type in cell_types:\n",
    "    cells_of_type = list(i for i,s in enumerate(samples) if cell_type in s)\n",
    "    plt.scatter(pca_result[cells_of_type,0],pca_result[cells_of_type,1])\n",
    "    \n",
    "plt.legend(cell_types)\n",
    "plt.show()"
   ]
  },
  {
   "cell_type": "code",
   "execution_count": 8,
   "metadata": {},
   "outputs": [
    {
     "data": {
      "text/html": [
       "<div>\n",
       "<style scoped>\n",
       "    .dataframe tbody tr th:only-of-type {\n",
       "        vertical-align: middle;\n",
       "    }\n",
       "\n",
       "    .dataframe tbody tr th {\n",
       "        vertical-align: top;\n",
       "    }\n",
       "\n",
       "    .dataframe thead th {\n",
       "        text-align: right;\n",
       "    }\n",
       "</style>\n",
       "<table border=\"1\" class=\"dataframe\">\n",
       "  <thead>\n",
       "    <tr style=\"text-align: right;\">\n",
       "      <th></th>\n",
       "      <th>0</th>\n",
       "      <th>1</th>\n",
       "      <th>2</th>\n",
       "      <th>3</th>\n",
       "      <th>4</th>\n",
       "    </tr>\n",
       "  </thead>\n",
       "  <tbody>\n",
       "    <tr>\n",
       "      <th>Abundance: F1: Sample, Inter</th>\n",
       "      <td>0.282812</td>\n",
       "      <td>13.241216</td>\n",
       "      <td>-2.535157</td>\n",
       "      <td>-2.412793</td>\n",
       "      <td>-1.213103</td>\n",
       "    </tr>\n",
       "    <tr>\n",
       "      <th>Abundance: F2: Sample, Inter</th>\n",
       "      <td>-12.688821</td>\n",
       "      <td>-2.471644</td>\n",
       "      <td>-5.278554</td>\n",
       "      <td>5.430066</td>\n",
       "      <td>0.202390</td>\n",
       "    </tr>\n",
       "    <tr>\n",
       "      <th>Abundance: F3: Sample, Inter</th>\n",
       "      <td>-15.284797</td>\n",
       "      <td>0.307882</td>\n",
       "      <td>2.886517</td>\n",
       "      <td>-0.993939</td>\n",
       "      <td>5.899018</td>\n",
       "    </tr>\n",
       "    <tr>\n",
       "      <th>Abundance: F4: Sample, Motor</th>\n",
       "      <td>-6.392413</td>\n",
       "      <td>-9.274215</td>\n",
       "      <td>-2.264573</td>\n",
       "      <td>-5.118227</td>\n",
       "      <td>-1.754142</td>\n",
       "    </tr>\n",
       "    <tr>\n",
       "      <th>Abundance: F5: Sample, Motor</th>\n",
       "      <td>-13.245290</td>\n",
       "      <td>0.071667</td>\n",
       "      <td>6.223705</td>\n",
       "      <td>2.060349</td>\n",
       "      <td>-3.800298</td>\n",
       "    </tr>\n",
       "    <tr>\n",
       "      <th>Abundance: F6: Sample, Motor</th>\n",
       "      <td>47.328508</td>\n",
       "      <td>-1.874905</td>\n",
       "      <td>0.968061</td>\n",
       "      <td>1.034544</td>\n",
       "      <td>0.666136</td>\n",
       "    </tr>\n",
       "  </tbody>\n",
       "</table>\n",
       "</div>"
      ],
      "text/plain": [
       "                                      0          1         2         3  \\\n",
       "Abundance: F1: Sample, Inter   0.282812  13.241216 -2.535157 -2.412793   \n",
       "Abundance: F2: Sample, Inter -12.688821  -2.471644 -5.278554  5.430066   \n",
       "Abundance: F3: Sample, Inter -15.284797   0.307882  2.886517 -0.993939   \n",
       "Abundance: F4: Sample, Motor  -6.392413  -9.274215 -2.264573 -5.118227   \n",
       "Abundance: F5: Sample, Motor -13.245290   0.071667  6.223705  2.060349   \n",
       "Abundance: F6: Sample, Motor  47.328508  -1.874905  0.968061  1.034544   \n",
       "\n",
       "                                     4  \n",
       "Abundance: F1: Sample, Inter -1.213103  \n",
       "Abundance: F2: Sample, Inter  0.202390  \n",
       "Abundance: F3: Sample, Inter  5.899018  \n",
       "Abundance: F4: Sample, Motor -1.754142  \n",
       "Abundance: F5: Sample, Motor -3.800298  \n",
       "Abundance: F6: Sample, Motor  0.666136  "
      ]
     },
     "execution_count": 8,
     "metadata": {},
     "output_type": "execute_result"
    }
   ],
   "source": [
    "pca_result_df = pd.DataFrame(pca_result, index=samples)\n",
    "pca_result_df"
   ]
  },
  {
   "cell_type": "markdown",
   "metadata": {},
   "source": [
    "### Venn Diagram\n"
   ]
  },
  {
   "cell_type": "code",
   "execution_count": null,
   "metadata": {},
   "outputs": [],
   "source": []
  }
 ],
 "metadata": {
  "kernelspec": {
   "display_name": "Python 3",
   "language": "python",
   "name": "python3"
  },
  "language_info": {
   "codemirror_mode": {
    "name": "ipython",
    "version": 3
   },
   "file_extension": ".py",
   "mimetype": "text/x-python",
   "name": "python",
   "nbconvert_exporter": "python",
   "pygments_lexer": "ipython3",
   "version": "3.7.3"
  }
 },
 "nbformat": 4,
 "nbformat_minor": 2
}
