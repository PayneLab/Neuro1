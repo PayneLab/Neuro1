{
 "cells": [
  {
   "cell_type": "markdown",
   "metadata": {},
   "source": [
    "## Use Case 2: Qualitative Reproducibility\n",
    "In analyzing proteomic data, we compare the proteins present in the different samples. Here we will use two metrics to compare the reproducibility of the data set across replicates and cell types. \n",
    "\n",
    "First, we use a Venn diagram approach to show how many proteins from each sample where uniquely identified or shared between the samples. Having many shared proteins among replicates will qualitatively indicate that the samples replicate well. \n",
    "\n",
    "Next, we creat PCA (or T-SNE) plots of components 1 and 2. This dimension reduction technique visually demonstrates the similarity or disparity of sub-groups. We use it to show that the cell types are distinct from each other."
   ]
  },
  {
   "cell_type": "code",
   "execution_count": 1,
   "metadata": {},
   "outputs": [],
   "source": [
    "from load_data import load_dataset\n",
    "from plot_utils import reproducibility"
   ]
  },
  {
   "cell_type": "markdown",
   "metadata": {},
   "source": [
    "### Venn Diagram\n"
   ]
  },
  {
   "cell_type": "code",
   "execution_count": null,
   "metadata": {},
   "outputs": [],
   "source": []
  },
  {
   "cell_type": "markdown",
   "metadata": {},
   "source": [
    "### PCA or T-SNE"
   ]
  },
  {
   "cell_type": "code",
   "execution_count": null,
   "metadata": {},
   "outputs": [],
   "source": []
  }
 ],
 "metadata": {
  "kernelspec": {
   "display_name": "Python 3",
   "language": "python",
   "name": "python3"
  },
  "language_info": {
   "codemirror_mode": {
    "name": "ipython",
    "version": 3
   },
   "file_extension": ".py",
   "mimetype": "text/x-python",
   "name": "python",
   "nbconvert_exporter": "python",
   "pygments_lexer": "ipython3",
   "version": "3.7.3"
  }
 },
 "nbformat": 4,
 "nbformat_minor": 2
}
