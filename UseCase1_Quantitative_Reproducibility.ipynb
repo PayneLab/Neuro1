{
 "cells": [
  {
   "cell_type": "markdown",
   "metadata": {},
   "source": [
    "### Use Case 1: Quantitative Reproducibility\n",
    "\n",
    "When doing single cell proteomics, we typically want to understand the technical quality of the data before we use it for biological hypothesis testing. One measure of technical data quality is the reproducibility of replicate measurements. Comparing reproducibility across sample types can also highlight proteins that differ between them. \n",
    "\n",
    "In this notebook, we will have a few short graphs that showcase reproducibility."
   ]
  },
  {
   "cell_type": "markdown",
   "metadata": {},
   "source": [
    "First, we import our loader and graphing functions."
   ]
  },
  {
   "cell_type": "code",
   "execution_count": 1,
   "metadata": {},
   "outputs": [],
   "source": [
    "from load_data import load_dataset\n",
    "from plot_utils import reproducibility"
   ]
  },
  {
   "cell_type": "markdown",
   "metadata": {},
   "source": [
    "Now we use our loader function to access the data. This will return a pandas dataframe with the data, which we save as <code>data</code> so we can graph it."
   ]
  },
  {
   "cell_type": "code",
   "execution_count": null,
   "metadata": {
    "scrolled": false
   },
   "outputs": [],
   "source": [
    "data = load_dataset()"
   ]
  },
  {
   "cell_type": "markdown",
   "metadata": {},
   "source": [
    "Here we graph all the cells against each other. Since this is our default display, we just need to pass it <code>data</code>.\n",
    "\n",
    "We can look within a cell type, for example at the interneurons graphed against themselves in the upper left corner. First we see F1 against F1: all proteins line up in a diagonal, demonstrating perfect reproducibility. Looking at the cells next to it, the second and third interneuron replicates, we see that the proteins generally line up well as . This indicates that "
   ]
  },
  {
   "cell_type": "code",
   "execution_count": null,
   "metadata": {
    "scrolled": false
   },
   "outputs": [],
   "source": [
    "reproducibility(data)"
   ]
  },
  {
   "cell_type": "markdown",
   "metadata": {},
   "source": [
    "Next, we might want to graph two of particular interest. For example, AAA and BBB have [insert interesting feature] a fair number that reproduce very well between the two, but some that are distinctly expressed only in AAA.\n",
    "\n",
    "We graph the two by listing them with the <code>pair</code> parameter."
   ]
  },
  {
   "cell_type": "code",
   "execution_count": null,
   "metadata": {},
   "outputs": [],
   "source": [
    "reproducibility(data, pair=['Abundance: F1: Sample, Inter',\n",
    "                            'Abundance: F6: Sample, Motor'])"
   ]
  },
  {
   "cell_type": "markdown",
   "metadata": {},
   "source": [
    "By adding <code>%matplotlib notebook</code>, we make the graph interactive. This allows zooming in or resizing the graph. This also allows us to add interactive features."
   ]
  },
  {
   "cell_type": "code",
   "execution_count": null,
   "metadata": {
    "scrolled": false
   },
   "outputs": [],
   "source": [
    "%matplotlib notebook\n",
    "reproducibility(data, pair=['Abundance: F1: Sample, Inter',\n",
    "                            'Abundance: F6: Sample, Motor'])"
   ]
  },
  {
   "cell_type": "code",
   "execution_count": null,
   "metadata": {},
   "outputs": [],
   "source": []
  }
 ],
 "metadata": {
  "kernelspec": {
   "display_name": "Python 3",
   "language": "python",
   "name": "python3"
  },
  "language_info": {
   "codemirror_mode": {
    "name": "ipython",
    "version": 3
   },
   "file_extension": ".py",
   "mimetype": "text/x-python",
   "name": "python",
   "nbconvert_exporter": "python",
   "pygments_lexer": "ipython3",
   "version": "3.7.3"
  }
 },
 "nbformat": 4,
 "nbformat_minor": 2
}
