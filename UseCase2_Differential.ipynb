{
 "cells": [
  {
   "cell_type": "markdown",
   "metadata": {},
   "source": [
    "### Use Case 2: Differential"
   ]
  },
  {
   "cell_type": "code",
   "execution_count": 1,
   "metadata": {},
   "outputs": [],
   "source": [
    "from load_data import load_dataset"
   ]
  },
  {
   "cell_type": "code",
   "execution_count": 5,
   "metadata": {},
   "outputs": [],
   "source": [
    "#This is non-published data, so we will stream it from box.\n",
    "#Until then we can use a local copy.\n",
    "#For example,\n",
    "#file = 'D:/MS/Biogen/PD output FAIMS_2CV_OTIT_HCD_300ITMS2_SingleMotorNeuron_A4_proteins.xlsx'\n",
    "file = 'D:/MS/Single Cell TMT QC/data/proteinGroups_PNNL_TMT_SC_Chip1.txt'\n",
    "data = load_dataset(file,experiment='A')"
   ]
  },
  {
   "cell_type": "markdown",
   "metadata": {},
   "source": [
    "-PD is the data imputed or not\n",
    "-Volcano plot\n",
    "-heat map graph thing\n"
   ]
  },
  {
   "cell_type": "code",
   "execution_count": null,
   "metadata": {},
   "outputs": [],
   "source": []
  }
 ],
 "metadata": {
  "kernelspec": {
   "display_name": "Python 3",
   "language": "python",
   "name": "python3"
  },
  "language_info": {
   "codemirror_mode": {
    "name": "ipython",
    "version": 3
   },
   "file_extension": ".py",
   "mimetype": "text/x-python",
   "name": "python",
   "nbconvert_exporter": "python",
   "pygments_lexer": "ipython3",
   "version": "3.7.3"
  }
 },
 "nbformat": 4,
 "nbformat_minor": 2
}
